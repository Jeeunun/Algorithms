{
 "cells": [
  {
   "cell_type": "code",
   "execution_count": 1,
   "metadata": {},
   "outputs": [],
   "source": [
    "import pandas as pd\n",
    "import numpy as np\n",
    "\n",
    "import sklearn.base as base\n",
    "import sklearn.pipeline as skpi\n",
    "import sklearn.preprocessing as skpre\n",
    "import sklearn.impute as skim\n",
    "import sklearn.compose as skcom"
   ]
  },
  {
   "cell_type": "markdown",
   "metadata": {},
   "source": [
    "### 1. 데이터 로드"
   ]
  },
  {
   "cell_type": "code",
   "execution_count": 2,
   "metadata": {},
   "outputs": [
    {
     "data": {
      "text/html": [
       "<div>\n",
       "<style scoped>\n",
       "    .dataframe tbody tr th:only-of-type {\n",
       "        vertical-align: middle;\n",
       "    }\n",
       "\n",
       "    .dataframe tbody tr th {\n",
       "        vertical-align: top;\n",
       "    }\n",
       "\n",
       "    .dataframe thead th {\n",
       "        text-align: right;\n",
       "    }\n",
       "</style>\n",
       "<table border=\"1\" class=\"dataframe\">\n",
       "  <thead>\n",
       "    <tr style=\"text-align: right;\">\n",
       "      <th></th>\n",
       "      <th>sessionID</th>\n",
       "      <th>userID</th>\n",
       "      <th>TARGET</th>\n",
       "      <th>browser</th>\n",
       "      <th>OS</th>\n",
       "      <th>device</th>\n",
       "      <th>new</th>\n",
       "      <th>quality</th>\n",
       "      <th>duration</th>\n",
       "      <th>bounced</th>\n",
       "      <th>transaction</th>\n",
       "      <th>transaction_revenue</th>\n",
       "      <th>continent</th>\n",
       "      <th>subcontinent</th>\n",
       "      <th>country</th>\n",
       "      <th>traffic_source</th>\n",
       "      <th>traffic_medium</th>\n",
       "      <th>keyword</th>\n",
       "      <th>referral_path</th>\n",
       "    </tr>\n",
       "  </thead>\n",
       "  <tbody>\n",
       "    <tr>\n",
       "      <th>0</th>\n",
       "      <td>SESSION_000000</td>\n",
       "      <td>USER_000000</td>\n",
       "      <td>17.0</td>\n",
       "      <td>Chrome</td>\n",
       "      <td>Macintosh</td>\n",
       "      <td>desktop</td>\n",
       "      <td>0</td>\n",
       "      <td>45.0</td>\n",
       "      <td>839.0</td>\n",
       "      <td>0</td>\n",
       "      <td>0.0</td>\n",
       "      <td>0.0</td>\n",
       "      <td>Americas</td>\n",
       "      <td>Northern America</td>\n",
       "      <td>United States</td>\n",
       "      <td>google</td>\n",
       "      <td>organic</td>\n",
       "      <td>Category8</td>\n",
       "      <td>NaN</td>\n",
       "    </tr>\n",
       "    <tr>\n",
       "      <th>1</th>\n",
       "      <td>SESSION_000001</td>\n",
       "      <td>USER_000001</td>\n",
       "      <td>3.0</td>\n",
       "      <td>Chrome</td>\n",
       "      <td>Windows</td>\n",
       "      <td>desktop</td>\n",
       "      <td>1</td>\n",
       "      <td>1.0</td>\n",
       "      <td>39.0</td>\n",
       "      <td>0</td>\n",
       "      <td>0.0</td>\n",
       "      <td>0.0</td>\n",
       "      <td>Europe</td>\n",
       "      <td>Western Europe</td>\n",
       "      <td>Germany</td>\n",
       "      <td>google</td>\n",
       "      <td>organic</td>\n",
       "      <td>Category8</td>\n",
       "      <td>NaN</td>\n",
       "    </tr>\n",
       "    <tr>\n",
       "      <th>2</th>\n",
       "      <td>SESSION_000002</td>\n",
       "      <td>USER_000002</td>\n",
       "      <td>1.0</td>\n",
       "      <td>Samsung Internet</td>\n",
       "      <td>Android</td>\n",
       "      <td>mobile</td>\n",
       "      <td>1</td>\n",
       "      <td>1.0</td>\n",
       "      <td>0.0</td>\n",
       "      <td>1</td>\n",
       "      <td>0.0</td>\n",
       "      <td>0.0</td>\n",
       "      <td>Asia</td>\n",
       "      <td>Southeast Asia</td>\n",
       "      <td>Malaysia</td>\n",
       "      <td>(direct)</td>\n",
       "      <td>(none)</td>\n",
       "      <td>NaN</td>\n",
       "      <td>NaN</td>\n",
       "    </tr>\n",
       "    <tr>\n",
       "      <th>3</th>\n",
       "      <td>SESSION_000003</td>\n",
       "      <td>USER_000003</td>\n",
       "      <td>1.0</td>\n",
       "      <td>Chrome</td>\n",
       "      <td>Macintosh</td>\n",
       "      <td>desktop</td>\n",
       "      <td>1</td>\n",
       "      <td>1.0</td>\n",
       "      <td>0.0</td>\n",
       "      <td>1</td>\n",
       "      <td>0.0</td>\n",
       "      <td>0.0</td>\n",
       "      <td>Americas</td>\n",
       "      <td>Northern America</td>\n",
       "      <td>United States</td>\n",
       "      <td>Partners</td>\n",
       "      <td>affiliate</td>\n",
       "      <td>NaN</td>\n",
       "      <td>NaN</td>\n",
       "    </tr>\n",
       "    <tr>\n",
       "      <th>4</th>\n",
       "      <td>SESSION_000004</td>\n",
       "      <td>USER_000004</td>\n",
       "      <td>1.0</td>\n",
       "      <td>Chrome</td>\n",
       "      <td>iOS</td>\n",
       "      <td>mobile</td>\n",
       "      <td>0</td>\n",
       "      <td>1.0</td>\n",
       "      <td>0.0</td>\n",
       "      <td>1</td>\n",
       "      <td>0.0</td>\n",
       "      <td>0.0</td>\n",
       "      <td>Americas</td>\n",
       "      <td>Northern America</td>\n",
       "      <td>United States</td>\n",
       "      <td>groups.google.com</td>\n",
       "      <td>referral</td>\n",
       "      <td>NaN</td>\n",
       "      <td>Category6_Path_0000</td>\n",
       "    </tr>\n",
       "  </tbody>\n",
       "</table>\n",
       "</div>"
      ],
      "text/plain": [
       "        sessionID       userID  TARGET           browser         OS   device  \\\n",
       "0  SESSION_000000  USER_000000    17.0            Chrome  Macintosh  desktop   \n",
       "1  SESSION_000001  USER_000001     3.0            Chrome    Windows  desktop   \n",
       "2  SESSION_000002  USER_000002     1.0  Samsung Internet    Android   mobile   \n",
       "3  SESSION_000003  USER_000003     1.0            Chrome  Macintosh  desktop   \n",
       "4  SESSION_000004  USER_000004     1.0            Chrome        iOS   mobile   \n",
       "\n",
       "   new  quality  duration  bounced  transaction  transaction_revenue  \\\n",
       "0    0     45.0     839.0        0          0.0                  0.0   \n",
       "1    1      1.0      39.0        0          0.0                  0.0   \n",
       "2    1      1.0       0.0        1          0.0                  0.0   \n",
       "3    1      1.0       0.0        1          0.0                  0.0   \n",
       "4    0      1.0       0.0        1          0.0                  0.0   \n",
       "\n",
       "  continent      subcontinent        country     traffic_source  \\\n",
       "0  Americas  Northern America  United States             google   \n",
       "1    Europe    Western Europe        Germany             google   \n",
       "2      Asia    Southeast Asia       Malaysia           (direct)   \n",
       "3  Americas  Northern America  United States           Partners   \n",
       "4  Americas  Northern America  United States  groups.google.com   \n",
       "\n",
       "  traffic_medium    keyword        referral_path  \n",
       "0        organic  Category8                  NaN  \n",
       "1        organic  Category8                  NaN  \n",
       "2         (none)        NaN                  NaN  \n",
       "3      affiliate        NaN                  NaN  \n",
       "4       referral        NaN  Category6_Path_0000  "
      ]
     },
     "execution_count": 2,
     "metadata": {},
     "output_type": "execute_result"
    }
   ],
   "source": [
    "data = pd.read_csv(r'C:\\Users\\hanjieun_2\\Desktop\\개인공부\\algorithms\\1.ML\\0.preprocessing\\datasets\\train.csv')\n",
    "data.head()"
   ]
  },
  {
   "cell_type": "code",
   "execution_count": 3,
   "metadata": {},
   "outputs": [
    {
     "name": "stdout",
     "output_type": "stream",
     "text": [
      "<class 'pandas.core.frame.DataFrame'>\n",
      "RangeIndex: 252289 entries, 0 to 252288\n",
      "Data columns (total 19 columns):\n",
      " #   Column               Non-Null Count   Dtype  \n",
      "---  ------               --------------   -----  \n",
      " 0   sessionID            252289 non-null  object \n",
      " 1   userID               252289 non-null  object \n",
      " 2   TARGET               252289 non-null  float64\n",
      " 3   browser              252289 non-null  object \n",
      " 4   OS                   252289 non-null  object \n",
      " 5   device               252289 non-null  object \n",
      " 6   new                  252289 non-null  int64  \n",
      " 7   quality              252289 non-null  float64\n",
      " 8   duration             252289 non-null  float64\n",
      " 9   bounced              252289 non-null  int64  \n",
      " 10  transaction          252289 non-null  float64\n",
      " 11  transaction_revenue  252289 non-null  float64\n",
      " 12  continent            252289 non-null  object \n",
      " 13  subcontinent         252289 non-null  object \n",
      " 14  country              252289 non-null  object \n",
      " 15  traffic_source       252289 non-null  object \n",
      " 16  traffic_medium       252289 non-null  object \n",
      " 17  keyword              114614 non-null  object \n",
      " 18  referral_path        91182 non-null   object \n",
      "dtypes: float64(5), int64(2), object(12)\n",
      "memory usage: 36.6+ MB\n"
     ]
    }
   ],
   "source": [
    "data.info()"
   ]
  },
  {
   "cell_type": "markdown",
   "metadata": {},
   "source": [
    "> keyword, referral_path에서 결측치 발견"
   ]
  },
  {
   "cell_type": "markdown",
   "metadata": {},
   "source": [
    "### 2. 변수 분리"
   ]
  },
  {
   "cell_type": "code",
   "execution_count": 4,
   "metadata": {},
   "outputs": [],
   "source": [
    "# sessionID 는 삭제\n",
    "df = data.copy()\n",
    "df.drop('sessionID', axis=1, inplace=True)"
   ]
  },
  {
   "cell_type": "code",
   "execution_count": 5,
   "metadata": {},
   "outputs": [],
   "source": [
    "target = df['TARGET']\n",
    "num_cols = df.select_dtypes(np.number).columns.difference(['TARGET'])\n",
    "cate_cols = df.select_dtypes('object').columns"
   ]
  },
  {
   "cell_type": "code",
   "execution_count": 6,
   "metadata": {},
   "outputs": [],
   "source": [
    "# 수치형, 범주형 변수 분리를 위한 클래스\n",
    "class DataFrameSelector(base.BaseEstimator, base.TransformerMixin):\n",
    "    def __init__(self, attribute_names):\n",
    "        self.attribute_names = attribute_names\n",
    "    def fit(self, X, y=None):\n",
    "        return self\n",
    "    \n",
    "    def transform(self, X, y=None):\n",
    "        return X[self.attribute_names].values"
   ]
  },
  {
   "cell_type": "code",
   "execution_count": 7,
   "metadata": {},
   "outputs": [],
   "source": [
    "# 수치형 변수 - 고르고/ 결측치처리 / 스케일링\n",
    "num_pipeline = skpi.Pipeline(\n",
    "    ('selector', DataFrameSelector(num_cols))\n",
    "\n",
    ")"
   ]
  },
  {
   "cell_type": "code",
   "execution_count": 8,
   "metadata": {},
   "outputs": [
    {
     "data": {
      "text/html": [
       "<style>#sk-container-id-1 {color: black;}#sk-container-id-1 pre{padding: 0;}#sk-container-id-1 div.sk-toggleable {background-color: white;}#sk-container-id-1 label.sk-toggleable__label {cursor: pointer;display: block;width: 100%;margin-bottom: 0;padding: 0.3em;box-sizing: border-box;text-align: center;}#sk-container-id-1 label.sk-toggleable__label-arrow:before {content: \"▸\";float: left;margin-right: 0.25em;color: #696969;}#sk-container-id-1 label.sk-toggleable__label-arrow:hover:before {color: black;}#sk-container-id-1 div.sk-estimator:hover label.sk-toggleable__label-arrow:before {color: black;}#sk-container-id-1 div.sk-toggleable__content {max-height: 0;max-width: 0;overflow: hidden;text-align: left;background-color: #f0f8ff;}#sk-container-id-1 div.sk-toggleable__content pre {margin: 0.2em;color: black;border-radius: 0.25em;background-color: #f0f8ff;}#sk-container-id-1 input.sk-toggleable__control:checked~div.sk-toggleable__content {max-height: 200px;max-width: 100%;overflow: auto;}#sk-container-id-1 input.sk-toggleable__control:checked~label.sk-toggleable__label-arrow:before {content: \"▾\";}#sk-container-id-1 div.sk-estimator input.sk-toggleable__control:checked~label.sk-toggleable__label {background-color: #d4ebff;}#sk-container-id-1 div.sk-label input.sk-toggleable__control:checked~label.sk-toggleable__label {background-color: #d4ebff;}#sk-container-id-1 input.sk-hidden--visually {border: 0;clip: rect(1px 1px 1px 1px);clip: rect(1px, 1px, 1px, 1px);height: 1px;margin: -1px;overflow: hidden;padding: 0;position: absolute;width: 1px;}#sk-container-id-1 div.sk-estimator {font-family: monospace;background-color: #f0f8ff;border: 1px dotted black;border-radius: 0.25em;box-sizing: border-box;margin-bottom: 0.5em;}#sk-container-id-1 div.sk-estimator:hover {background-color: #d4ebff;}#sk-container-id-1 div.sk-parallel-item::after {content: \"\";width: 100%;border-bottom: 1px solid gray;flex-grow: 1;}#sk-container-id-1 div.sk-label:hover label.sk-toggleable__label {background-color: #d4ebff;}#sk-container-id-1 div.sk-serial::before {content: \"\";position: absolute;border-left: 1px solid gray;box-sizing: border-box;top: 0;bottom: 0;left: 50%;z-index: 0;}#sk-container-id-1 div.sk-serial {display: flex;flex-direction: column;align-items: center;background-color: white;padding-right: 0.2em;padding-left: 0.2em;position: relative;}#sk-container-id-1 div.sk-item {position: relative;z-index: 1;}#sk-container-id-1 div.sk-parallel {display: flex;align-items: stretch;justify-content: center;background-color: white;position: relative;}#sk-container-id-1 div.sk-item::before, #sk-container-id-1 div.sk-parallel-item::before {content: \"\";position: absolute;border-left: 1px solid gray;box-sizing: border-box;top: 0;bottom: 0;left: 50%;z-index: -1;}#sk-container-id-1 div.sk-parallel-item {display: flex;flex-direction: column;z-index: 1;position: relative;background-color: white;}#sk-container-id-1 div.sk-parallel-item:first-child::after {align-self: flex-end;width: 50%;}#sk-container-id-1 div.sk-parallel-item:last-child::after {align-self: flex-start;width: 50%;}#sk-container-id-1 div.sk-parallel-item:only-child::after {width: 0;}#sk-container-id-1 div.sk-dashed-wrapped {border: 1px dashed gray;margin: 0 0.4em 0.5em 0.4em;box-sizing: border-box;padding-bottom: 0.4em;background-color: white;}#sk-container-id-1 div.sk-label label {font-family: monospace;font-weight: bold;display: inline-block;line-height: 1.2em;}#sk-container-id-1 div.sk-label-container {text-align: center;}#sk-container-id-1 div.sk-container {/* jupyter's `normalize.less` sets `[hidden] { display: none; }` but bootstrap.min.css set `[hidden] { display: none !important; }` so we also need the `!important` here to be able to override the default hidden behavior on the sphinx rendered scikit-learn.org. See: https://github.com/scikit-learn/scikit-learn/issues/21755 */display: inline-block !important;position: relative;}#sk-container-id-1 div.sk-text-repr-fallback {display: none;}</style><div id=\"sk-container-id-1\" class=\"sk-top-container\"><div class=\"sk-text-repr-fallback\"><pre>Pipeline(steps=(&#x27;selector&#x27;,\n",
       "                DataFrameSelector(attribute_names=Index([&#x27;bounced&#x27;, &#x27;duration&#x27;, &#x27;new&#x27;, &#x27;quality&#x27;, &#x27;transaction&#x27;,\n",
       "       &#x27;transaction_revenue&#x27;],\n",
       "      dtype=&#x27;object&#x27;))))</pre><b>In a Jupyter environment, please rerun this cell to show the HTML representation or trust the notebook. <br />On GitHub, the HTML representation is unable to render, please try loading this page with nbviewer.org.</b></div><div class=\"sk-container\" hidden><div class=\"sk-item\"><div class=\"sk-estimator sk-toggleable\"><input class=\"sk-toggleable__control sk-hidden--visually\" id=\"sk-estimator-id-1\" type=\"checkbox\" checked><label for=\"sk-estimator-id-1\" class=\"sk-toggleable__label sk-toggleable__label-arrow\">Pipeline</label><div class=\"sk-toggleable__content\"><pre>Pipeline(steps=(&#x27;selector&#x27;,\n",
       "                DataFrameSelector(attribute_names=Index([&#x27;bounced&#x27;, &#x27;duration&#x27;, &#x27;new&#x27;, &#x27;quality&#x27;, &#x27;transaction&#x27;,\n",
       "       &#x27;transaction_revenue&#x27;],\n",
       "      dtype=&#x27;object&#x27;))))</pre></div></div></div></div></div>"
      ],
      "text/plain": [
       "Pipeline(steps=('selector',\n",
       "                DataFrameSelector(attribute_names=Index(['bounced', 'duration', 'new', 'quality', 'transaction',\n",
       "       'transaction_revenue'],\n",
       "      dtype='object'))))"
      ]
     },
     "execution_count": 8,
     "metadata": {},
     "output_type": "execute_result"
    }
   ],
   "source": [
    "num_pipeline"
   ]
  },
  {
   "cell_type": "code",
   "execution_count": null,
   "metadata": {},
   "outputs": [],
   "source": []
  }
 ],
 "metadata": {
  "kernelspec": {
   "display_name": "Python 3",
   "language": "python",
   "name": "python3"
  },
  "language_info": {
   "codemirror_mode": {
    "name": "ipython",
    "version": 3
   },
   "file_extension": ".py",
   "mimetype": "text/x-python",
   "name": "python",
   "nbconvert_exporter": "python",
   "pygments_lexer": "ipython3",
   "version": "3.9.13"
  }
 },
 "nbformat": 4,
 "nbformat_minor": 2
}
