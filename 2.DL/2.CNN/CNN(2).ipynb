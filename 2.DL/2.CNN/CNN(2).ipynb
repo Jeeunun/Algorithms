{
 "cells": [
  {
   "cell_type": "markdown",
   "metadata": {},
   "source": [
    "## CNN Layer 구현\n",
    "\n",
    "### 1. 합성곱 함수 구현"
   ]
  },
  {
   "cell_type": "code",
   "execution_count": 1,
   "metadata": {},
   "outputs": [],
   "source": [
    "import numpy as np\n",
    "\n",
    "def conv(a, b):\n",
    "    c = np.array(a) * np.array(b)\n",
    "    return np.sum(c)"
   ]
  },
  {
   "cell_type": "markdown",
   "metadata": {},
   "source": [
    "### 2. MaxPooling 함수 구현(한 개의 map 계산)"
   ]
  },
  {
   "cell_type": "code",
   "execution_count": 2,
   "metadata": {},
   "outputs": [],
   "source": [
    "def MaxPooling(nimg): #2d input\n",
    "    nimg = np.array(nimg)\n",
    "    i0, j0 = nimg.shape # i0 = nimg.shape[0], j0 = nimg.shape[1]\n",
    "    i1 = int((i0+1)/2)\n",
    "    j1 = int((j0+1)/2)\n",
    "    output = np.zeros((i1, j1))\n",
    "\n",
    "    if i0%2 ==1:\n",
    "        i0+=1\n",
    "        tmp = np.zeros((1, j0))\n",
    "        nimg = np.concatenate([nimg, tmp], axis=0)\n",
    "\n",
    "    if j0%2 ==1 :\n",
    "        j0+=1\n",
    "        tmp = np.zeros((i0, 1))\n",
    "        nimg = np.concatenate([nimg, tmp], axis=1)\n",
    "\n",
    "    for i in range(output.shape[0]):\n",
    "        for j in range(output.shape[1]):\n",
    "            a = np.array(nimg[2*i:2*i+2, 2*j:2*j+2])\n",
    "\n",
    "            output[i,j] = a.max()\n",
    "\n",
    "    return output"
   ]
  },
  {
   "cell_type": "markdown",
   "metadata": {},
   "source": [
    "### 3. 합성곱 출력 층(feature map) 함수 구현 (한 개의 filter 계산)"
   ]
  },
  {
   "cell_type": "code",
   "execution_count": null,
   "metadata": {},
   "outputs": [],
   "source": [
    "def featuring(nimg, filters): #2d\n",
    "    feature = np.zeros((nimg.shape[0]-2, nimg.shape[1]-2))\n",
    "    for i in range(feature.shape[0]):\n",
    "        for j in range(feature.shape[1]):\n",
    "            a = nimg[i:i+3, j:j+3,]\n",
    "            feature[i,j] = conv(a,filters)\n",
    "\n",
    "    return feature"
   ]
  },
  {
   "cell_type": "markdown",
   "metadata": {},
   "source": [
    "### 4. MaxPooling 출력 층 함수 구현(여러 map 계산)"
   ]
  },
  {
   "cell_type": "code",
   "execution_count": 3,
   "metadata": {},
   "outputs": [],
   "source": [
    "def Pooling(nimg):\n",
    "    nimg = np.array(nimg)\n",
    "    pool0 = []\n",
    "    for i in range(len(nimg)):\n",
    "        pool0.append(MaxPooling(nimg[i]))\n",
    "    return pool0"
   ]
  },
  {
   "cell_type": "markdown",
   "metadata": {},
   "source": [
    "### 5. 배열을 그림으로 변환"
   ]
  },
  {
   "cell_type": "code",
   "execution_count": 4,
   "metadata": {},
   "outputs": [],
   "source": [
    "def to_img(nimg):\n",
    "    nimg = np.array(nimg)\n",
    "    nimg = np.uint8(np.around(nimg))\n",
    "    fimg = []\n",
    "    for i in range(len(nimg)):\n",
    "        fimg.append(Image.fromarray(nimg[i]))\n",
    "    return fimg"
   ]
  },
  {
   "cell_type": "markdown",
   "metadata": {},
   "source": [
    "### 6. feature map 생성(여러 filter 계산)"
   ]
  },
  {
   "cell_type": "code",
   "execution_count": 5,
   "metadata": {},
   "outputs": [],
   "source": [
    "def ConvD(nimg):\n",
    "    nimg = np.array(nimg)\n",
    "    feat0 =[]\n",
    "    for i in range(len(filter)):\n",
    "        feat0.append(featuring(nimg, filter[i]))\n",
    "    return feat0"
   ]
  },
  {
   "cell_type": "markdown",
   "metadata": {},
   "source": [
    "### 7. ReLU 활성화 함수"
   ]
  },
  {
   "cell_type": "code",
   "execution_count": 6,
   "metadata": {},
   "outputs": [],
   "source": [
    "def ReLU(f0):\n",
    "    f0 = np.array(f0)\n",
    "    f0 = (f0>0) * f0\n",
    "    return f0"
   ]
  },
  {
   "cell_type": "markdown",
   "metadata": {},
   "source": [
    "### 8. CNN Layer 함수 : Conv + ReLU + MaxPooling"
   ]
  },
  {
   "cell_type": "code",
   "execution_count": 7,
   "metadata": {},
   "outputs": [],
   "source": [
    "def ConvMax(nimg):\n",
    "    nimg = np.array(nimg)\n",
    "    f0 = ConvD(nimg)\n",
    "    f0 = ReLU(f0)\n",
    "    fg = Pooling(f0)\n",
    "    return f0, fg"
   ]
  },
  {
   "cell_type": "markdown",
   "metadata": {},
   "source": [
    "### 9. 그림 그리기 : 합성곱 후의 상태와 MaxPooling 후의 상태를 그림으로 그리기"
   ]
  },
  {
   "cell_type": "code",
   "execution_count": 8,
   "metadata": {},
   "outputs": [],
   "source": [
    "import matplotlib.pyplot as plt\n",
    "\n",
    "def draw(f0, fg0, size=(12,8), k=-1): # size와 k는 기본값 설정\n",
    "    plt.figure(figsize=size)\n",
    "\n",
    "    for i in range(len(f0)):\n",
    "        plt.subplot(2, len(f0), i+1)\n",
    "        plt.gca().set_title('Conv'+str(k)+'-'+str(i))\n",
    "        plt.imshow(f0[i])\n",
    "\n",
    "    for i in range(len(fg0)):\n",
    "        plt.subplot(2, len(fg0), len(f0)+i+1)\n",
    "        plt.gca().set_title('MaxP'+str(k)+'-'+str(i))\n",
    "        plt.imshow(fg0[i])\n",
    "\n",
    "    if k!=-1:\n",
    "        plt.savefig('conv'+str(k)+'.png')"
   ]
  },
  {
   "cell_type": "markdown",
   "metadata": {},
   "source": [
    "### 10. 3개의 activation map 합치기 : MaxPooling 후의 결과 map 들을 하나의 데이터로 통합"
   ]
  },
  {
   "cell_type": "code",
   "execution_count": 9,
   "metadata": {},
   "outputs": [],
   "source": [
    "def join(mm):\n",
    "    mm = np.array(mm)\n",
    "    m1 = np.zeros((mm.shape[1], mm.shape[2], mm.shape[0]))\n",
    "    for i in range(mm.shape[1]):\n",
    "        for j in range(mm.shape[2]):\n",
    "            for k in range(mm.shape[0]):\n",
    "                m1[i][j][k] = mm[k][i][j]\n",
    "\n",
    "    return m1"
   ]
  },
  {
   "cell_type": "markdown",
   "metadata": {},
   "source": [
    "### 11. CNN Layer 과정을 계산하고 결과를 그림으로 출력"
   ]
  },
  {
   "cell_type": "code",
   "execution_count": 10,
   "metadata": {},
   "outputs": [],
   "source": [
    "def ConvDraw(p0, size=(12, 8), k=-1):\n",
    "    f0, fg0 = ConvMax(p0)\n",
    "    f0 = to_img(f0)\n",
    "    fg1 = to_img(fg0)\n",
    "    draw(f0, fg1, size, k)\n",
    "    p1 = join(fg0)\n",
    "    return p1"
   ]
  },
  {
   "cell_type": "code",
   "execution_count": null,
   "metadata": {},
   "outputs": [],
   "source": []
  }
 ],
 "metadata": {
  "kernelspec": {
   "display_name": "Python 3",
   "language": "python",
   "name": "python3"
  },
  "language_info": {
   "codemirror_mode": {
    "name": "ipython",
    "version": 3
   },
   "file_extension": ".py",
   "mimetype": "text/x-python",
   "name": "python",
   "nbconvert_exporter": "python",
   "pygments_lexer": "ipython3",
   "version": "3.9.13"
  }
 },
 "nbformat": 4,
 "nbformat_minor": 2
}
