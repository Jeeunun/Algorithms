{
 "cells": [
  {
   "cell_type": "markdown",
   "metadata": {},
   "source": [
    "## CIFAR10 이미지분류 with ImageDataGenerator\n",
    "\n",
    "### 1. 기본 라이브러리 불러오기"
   ]
  },
  {
   "cell_type": "code",
   "execution_count": 1,
   "metadata": {},
   "outputs": [],
   "source": [
    "import numpy as np\n",
    "import pandas as pd\n",
    "import os"
   ]
  },
  {
   "cell_type": "markdown",
   "metadata": {},
   "source": [
    "### 2. 데이터 처리\n",
    "\n",
    "#### 2-1. 데이터 확인 : 데이터 이미지 그려보기"
   ]
  },
  {
   "cell_type": "code",
   "execution_count": 2,
   "metadata": {},
   "outputs": [
    {
     "data": {
      "text/plain": [
       "(32, 32, 3)"
      ]
     },
     "execution_count": 2,
     "metadata": {},
     "output_type": "execute_result"
    },
    {
     "data": {
      "image/png": "[encoded data removed]",
      "text/plain": [
       "<Figure size 640x480 with 1 Axes>"
      ]
     },
     "metadata": {},
     "output_type": "display_data"
    }
   ],
   "source": [
    "from PIL import Image\n",
    "import matplotlib.pyplot as plt\n",
    "\n",
    "img = Image.open(r\"C:\\Users\\hanjieun_2\\Desktop\\kaggle_dataset\\CNN\\cifar10\\cifar10\\train\\horse\\4612.png\")\n",
    "# 이미지 그려보기\n",
    "plt.imshow(img)\n",
    "\n",
    "# 이미지를 numpy 배열로 변환해 크기 알아보기\n",
    "np_img = np.array(img)\n",
    "np_img.shape"
   ]
  },
  {
   "cell_type": "markdown",
   "metadata": {},
   "source": [
    "#### 2-2. 기본 경로와 변수 설정"
   ]
  },
  {
   "cell_type": "code",
   "execution_count": 3,
   "metadata": {},
   "outputs": [],
   "source": [
    "# 학습용 데이터와 평가용 데이터의 경로 지정\n",
    "train_dir = r\"C:\\Users\\hanjieun_2\\Desktop\\kaggle_dataset\\CNN\\cifar10\\cifar10\\train\"\n",
    "test_dir = r\"C:\\Users\\hanjieun_2\\Desktop\\kaggle_dataset\\CNN\\cifar10\\cifar10\\test\"\n",
    "\n",
    "os.listdir(train_dir)   # 학습용 데이터 경로의 파일 또는 폴더 확인\n",
    "\n",
    "bs = 16                 # batch_size 설정\n",
    "input_sh = (32,32,3)    # 데이터 형태 설정"
   ]
  },
  {
   "cell_type": "markdown",
   "metadata": {},
   "source": [
    "#### 2-3. 데이터 불러오기"
   ]
  },
  {
   "cell_type": "code",
   "execution_count": 4,
   "metadata": {},
   "outputs": [
    {
     "name": "stdout",
     "output_type": "stream",
     "text": [
      "Found 50000 images belonging to 10 classes.\n",
      "Found 10000 images belonging to 10 classes.\n"
     ]
    }
   ],
   "source": [
    "# ImageDataGenerator호출\n",
    "from tensorflow.keras.preprocessing.image import ImageDataGenerator\n",
    "\n",
    "# datagen 정의. 데이터 값의 크기를 255로 나눔으로써 데이터 전처리 실행\n",
    "datagen = ImageDataGenerator(rescale = 1./255)\n",
    "\n",
    "\n",
    "# train 정의: flow_from_directory로 학습용 데이터를 batch_size 단위로 로딩\n",
    "train = datagen.flow_from_directory(train_dir, batch_size=bs, \n",
    "                                    target_size=(32,32), class_mode='categorical')\n",
    "\n",
    "# test 정의 : flow_from_directory로 평가용 데이터를 batch_size 단위로 로딩\n",
    "test = datagen.flow_from_directory(test_dir, batch_size=bs,\n",
    "                                   target_size=(32,32), class_mode = 'categorical',\n",
    "                                   shuffle=False)"
   ]
  },
  {
   "cell_type": "markdown",
   "metadata": {},
   "source": [
    "#### 2-4. DataGen 확인"
   ]
  },
  {
   "cell_type": "code",
   "execution_count": 5,
   "metadata": {},
   "outputs": [
    {
     "data": {
      "image/png": "[encoded data removed]",
      "text/plain": [
       "<Figure size 640x480 with 1 Axes>"
      ]
     },
     "metadata": {},
     "output_type": "display_data"
    },
    {
     "name": "stdout",
     "output_type": "stream",
     "text": [
      "(32, 32, 3) [0. 0. 0. 0. 1. 0. 0. 0. 0. 0.]\n"
     ]
    }
   ],
   "source": [
    "x,y = train.next() # 데이터의 다음 배치를 요청\n",
    "x.shape\n",
    "\n",
    "# 로딩한 이미지 그리기\n",
    "for i in range(0,bs):\n",
    "    plt.imshow((x[i]*255).astype('int')) # datagen에서 255를 나누었으므로 다시 곱해서 정수화\n",
    "    plt.show()\n",
    "    print(x[i].shape, y[i])\n",
    "    break"
   ]
  },
  {
   "cell_type": "markdown",
   "metadata": {},
   "source": [
    "### 3. CNN Model 설정\n",
    "\n",
    "#### 3-1. CNN 라이브러리 호출"
   ]
  },
  {
   "cell_type": "code",
   "execution_count": 6,
   "metadata": {},
   "outputs": [],
   "source": [
    "from tensorflow.keras.models import Sequential\n",
    "from tensorflow.keras.layers import Conv2D, MaxPooling2D, Dense, Flatten, Dropout"
   ]
  },
  {
   "cell_type": "markdown",
   "metadata": {},
   "source": [
    "#### 3-2. 모델 설정"
   ]
  },
  {
   "cell_type": "code",
   "execution_count": 7,
   "metadata": {},
   "outputs": [
    {
     "name": "stdout",
     "output_type": "stream",
     "text": [
      "Model: \"sequential\"\n",
      "_________________________________________________________________\n",
      " Layer (type)                Output Shape              Param #   \n",
      "=================================================================\n",
      " conv2d (Conv2D)             (None, 30, 30, 8)         224       \n",
      "                                                                 \n",
      " max_pooling2d (MaxPooling2  (None, 15, 15, 8)         0         \n",
      " D)                                                              \n",
      "                                                                 \n",
      " conv2d_1 (Conv2D)           (None, 13, 13, 8)         584       \n",
      "                                                                 \n",
      " max_pooling2d_1 (MaxPoolin  (None, 6, 6, 8)           0         \n",
      " g2D)                                                            \n",
      "                                                                 \n",
      " conv2d_2 (Conv2D)           (None, 4, 4, 16)          1168      \n",
      "                                                                 \n",
      " max_pooling2d_2 (MaxPoolin  (None, 2, 2, 16)          0         \n",
      " g2D)                                                            \n",
      "                                                                 \n",
      " flatten (Flatten)           (None, 64)                0         \n",
      "                                                                 \n",
      " dropout (Dropout)           (None, 64)                0         \n",
      "                                                                 \n",
      " dense (Dense)               (None, 32)                2080      \n",
      "                                                                 \n",
      " dense_1 (Dense)             (None, 10)                330       \n",
      "                                                                 \n",
      "=================================================================\n",
      "Total params: 4386 (17.13 KB)\n",
      "Trainable params: 4386 (17.13 KB)\n",
      "Non-trainable params: 0 (0.00 Byte)\n",
      "_________________________________________________________________\n"
     ]
    }
   ],
   "source": [
    "# 모델 생성\n",
    "model = Sequential()\n",
    "\n",
    "# 1. Convolution Layer\n",
    "# 3x3의 filter를 스캔하여 feature map을 8개 만든후, activation=relu를 적용해 activation map 생성\n",
    "model.add(Conv2D(8, (3,3), activation='relu', input_shape= input_sh))\n",
    "\n",
    "# 2. Pooling Layer\n",
    "model.add(MaxPooling2D())\n",
    "\n",
    "# 3. Convolution Layer\n",
    "# 3x3의 filter를 스캔하여 feature map을 8개 만든후, activation=relu를 적용해 activation map 생성\n",
    "model.add(Conv2D(8, (3,3), activation='relu'))\n",
    "\n",
    "# 4. Pooling Layer\n",
    "model.add(MaxPooling2D())\n",
    "\n",
    "# 5. Convolution Layer\n",
    "# feature map을 증가시키는 이유는 복잡한 특징을 수행하기 위함. \n",
    "# CNN에서 레이어를 통과할 때마다 feature map을 증가시키는 것이 일반적. \n",
    "model.add(Conv2D(16, (3,3), activation='relu'))\n",
    "\n",
    "# 6. Pooling Layer\n",
    "model.add(MaxPooling2D())\n",
    "\n",
    "#---보통 CNN Layer(Convolution Layer + Pooling Layer)는 3번 반복한다.---\n",
    "\n",
    "# 7. FC Layer\n",
    "model.add(Flatten())\n",
    "\n",
    "model.add(Dropout(0.5)) # 50%확률로 뉴런이 제거될 수 있음.(과적합 방지용)\n",
    "\n",
    "# 8. fully connected laye로, 이전의 특성을 입력으로 받아들여 출력을 생성\n",
    "model.add(Dense(32, activation='relu'))\n",
    "model.add(Dense(10, activation='softmax'))\n",
    "model.summary()"
   ]
  },
  {
   "cell_type": "markdown",
   "metadata": {},
   "source": [
    "### 4. 모델 생성\n",
    "\n",
    "#### 4-1. 모델 compile : loss, optimizer, metrics 설정"
   ]
  },
  {
   "cell_type": "code",
   "execution_count": 8,
   "metadata": {},
   "outputs": [],
   "source": [
    "model.compile(loss='categorical_crossentropy', optimizer='RMSprop', metrics='acc')"
   ]
  },
  {
   "cell_type": "markdown",
   "metadata": {},
   "source": [
    "#### 4-2. 모델 학습 : data generator로 데이터를 불러오기 때문에 레이블 지정이 따로 없다."
   ]
  },
  {
   "cell_type": "code",
   "execution_count": 9,
   "metadata": {},
   "outputs": [
    {
     "name": "stdout",
     "output_type": "stream",
     "text": [
      "Epoch 1/5\n",
      "3125/3125 [==============================] - 448s 143ms/step - loss: 1.9314 - acc: 0.2726\n",
      "Epoch 2/5\n",
      "3125/3125 [==============================] - 26s 8ms/step - loss: 1.7339 - acc: 0.3512\n",
      "Epoch 3/5\n",
      "3125/3125 [==============================] - 26s 8ms/step - loss: 1.6567 - acc: 0.3864\n",
      "Epoch 4/5\n",
      "3125/3125 [==============================] - 26s 8ms/step - loss: 1.6161 - acc: 0.3999\n",
      "Epoch 5/5\n",
      "3125/3125 [==============================] - 26s 8ms/step - loss: 1.5859 - acc: 0.4168\n"
     ]
    }
   ],
   "source": [
    "hist = model.fit(train, epochs=5)"
   ]
  },
  {
   "cell_type": "markdown",
   "metadata": {},
   "source": [
    "### 5. 결과 평가"
   ]
  },
  {
   "cell_type": "code",
   "execution_count": 10,
   "metadata": {},
   "outputs": [
    {
     "name": "stdout",
     "output_type": "stream",
     "text": [
      "625/625 [==============================] - 86s 137ms/step - loss: 1.4359 - acc: 0.4750\n"
     ]
    },
    {
     "data": {
      "text/plain": [
       "[1.4358880519866943, 0.4749999940395355]"
      ]
     },
     "execution_count": 10,
     "metadata": {},
     "output_type": "execute_result"
    }
   ],
   "source": [
    "model.evaluate(test)"
   ]
  },
  {
   "cell_type": "markdown",
   "metadata": {},
   "source": [
    "> 손실률이 높게 나온 것 같다.. 더 좋은 모델이 있을 것 같다."
   ]
  },
  {
   "cell_type": "markdown",
   "metadata": {},
   "source": [
    "> "
   ]
  }
 ],
 "metadata": {
  "kernelspec": {
   "display_name": "Python 3",
   "language": "python",
   "name": "python3"
  },
  "language_info": {
   "codemirror_mode": {
    "name": "ipython",
    "version": 3
   },
   "file_extension": ".py",
   "mimetype": "text/x-python",
   "name": "python",
   "nbconvert_exporter": "python",
   "pygments_lexer": "ipython3",
   "version": "3.9.13"
  }
 },
 "nbformat": 4,
 "nbformat_minor": 2
}
