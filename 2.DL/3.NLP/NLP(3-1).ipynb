{
 "cells": [
  {
   "cell_type": "code",
   "execution_count": null,
   "metadata": {},
   "outputs": [],
   "source": [
    "from selenium import webdriver\n",
    "from selenium.webdriver.common.keys import Keys\n",
    "import time\n",
    "\n",
    "# Selenium을 사용하여 웹드라이버를 엽니다.\n",
    "driver = webdriver.Chrome()\n",
    "\n",
    "# 크롤링할 웹페이지로 이동합니다.\n",
    "movie_name = '파묘'\n",
    "driver.get(\"https://search.naver.com/search.naver?where=nexearch&sm=tab_etc&mra=bkEw&pkid=68&os=32764045&qvt=0&query=영화%{0}%20관람평\".format(movie_name))\n",
    "\n",
    "# 스크롤을 내리고 멈추는 횟수를 정합니다.\n",
    "scroll_count = 10\n",
    "\n",
    "# 스크롤을 내리고 멈추는 동작을 반복합니다.\n",
    "for _ in range(scroll_count):\n",
    "    # 스크롤을 내립니다.\n",
    "    driver.execute_script(\"window.scrollTo(0, document.body.scrollHeight);\")\n",
    "    \n",
    "    # 일정 시간 동안 멈춥니다.\n",
    "    time.sleep(2)  # 예를 들어 2초간 멈춥니다.\n",
    "\n",
    "    # 크롤링 작업을 수행합니다.\n",
    "    # 이후 원하는 데이터를 크롤링합니다.\n",
    "\n",
    "# 웹드라이버를 종료합니다.\n",
    "driver.quit()\n"
   ]
  }
 ],
 "metadata": {
  "language_info": {
   "name": "python"
  }
 },
 "nbformat": 4,
 "nbformat_minor": 2
}
